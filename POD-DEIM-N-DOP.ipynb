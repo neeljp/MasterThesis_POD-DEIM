{
 "cells": [
  {
   "cell_type": "code",
   "execution_count": 38,
   "metadata": {
    "collapsed": false
   },
   "outputs": [
    {
     "name": "stdout",
     "output_type": "stream",
     "text": [
      "The autoreload extension is already loaded. To reload it, use:\n",
      "  %reload_ext autoreload\n"
     ]
    }
   ],
   "source": [
    "#%matplotlib inline\n",
    "%load_ext autoreload\n",
    "%autoreload 1\n",
    "import numpy as np\n",
    "import numpy.linalg as la\n",
    "import scipy.sparse as sp\n",
    "from scipy.sparse.linalg import norm\n",
    "import generate as gen\n",
    "import petsc_io as io\n",
    "import matplotlib\n",
    "import matplotlib.pyplot as plt\n",
    "import model\n",
    "import pod\n",
    "import math\n",
    "from decimal import Decimal\n",
    "np.set_printoptions(threshold=np.nan)\n",
    "np.set_printoptions(precision=20)\n",
    "%aimport pod\n",
    "%aimport petsc_io"
   ]
  },
  {
   "cell_type": "markdown",
   "metadata": {},
   "source": [
    "metos3dbgc(dt,q,t,y,u,bc,dc,n=shape(q,1),nz=shape(q,0),m=len(u),nbc=len(bc),ndc=shape(dc,1))\n",
    "integer :: n, nz, m, nbc, ndc\n",
    "real*8  :: dt, q(nz, n), t, y(nz, n), u(m), bc(nbc), dc(nz, ndc)"
   ]
  },
  {
   "cell_type": "code",
   "execution_count": 2,
   "metadata": {
    "collapsed": false
   },
   "outputs": [
    {
     "name": "stdout",
     "output_type": "stream",
     "text": [
      "Data loaded\n"
     ]
    }
   ],
   "source": [
    "Y_N,Y_DOP = pod.constructSnapshotMatrix(\"simulation/POD\",1,50,12,1)\n",
    "U_POD_N , s_POD_N ,V_POD_N = pod.computeSVD(Y_N)\n",
    "U_POD_DOP , s_POD_DOP ,V_POD_DOP = pod.computeSVD(Y_DOP)\n",
    "U_POD = sp.block_diag((U_POD_N[:,:300],U_POD_DOP[:,:300]),format='csc')"
   ]
  },
  {
   "cell_type": "code",
   "execution_count": 3,
   "metadata": {
    "collapsed": false
   },
   "outputs": [
    {
     "name": "stdout",
     "output_type": "stream",
     "text": [
      "Data loaded\n"
     ]
    }
   ],
   "source": [
    "Y_N,Y_DOP = pod.constructSnapshotMatrix(\"simulation/DEIM\",1,50,12,1)\n",
    "U_DEIM_N , s_DEIM_N ,V_DEIM_N = pod.computeSVD(Y_N)\n",
    "U_DEIM_DOP , s_DEIM_DOP ,V_DEIM_DOP = pod.computeSVD(Y_DOP)\n",
    "U_DEIM = sp.block_diag((U_DEIM_N[:,:300],U_DEIM_DOP[:,:300]),format='csc')\n"
   ]
  },
  {
   "cell_type": "code",
   "execution_count": 49,
   "metadata": {
    "collapsed": false
   },
   "outputs": [
    {
     "data": {
      "text/plain": [
       "(52749, 2)"
      ]
     },
     "execution_count": 49,
     "metadata": {},
     "output_type": "execute_result"
    }
   ],
   "source": [
    "U_DEIM_N[:,:2].shape"
   ]
  },
  {
   "cell_type": "code",
   "execution_count": null,
   "metadata": {
    "collapsed": false,
    "scrolled": false
   },
   "outputs": [],
   "source": [
    "N = np.ones(52749,dtype=np.float_) * 2.17\n",
    "DOP = np.ones(52749,dtype=np.float_) * 1e-4\n",
    "y = np.zeros((2*52749),dtype=np.float_)\n",
    "y[:52749] = N\n",
    "y[52749:] = DOP\n",
    "y_red = U_POD.transpose().dot(y) \n",
    "y_long = U_POD.dot(y_red)\n",
    "offset = 52749\n",
    "\n",
    "print(\"projection error: \", np.linalg.norm(y_long[:offset]-N),np.linalg.norm(y_long[offset:]-DOP),y_long[offset:])"
   ]
  },
  {
   "cell_type": "code",
   "execution_count": null,
   "metadata": {
    "collapsed": false
   },
   "outputs": [],
   "source": [
    "y_red_DOP = U_POD_DOP[:,:80].transpose().dot(DOP) \n",
    "y_long_DOP = U_POD_DOP[:,:80].dot(y_red_DOP)\n",
    "print(\"projection error: \",np.linalg.norm(y_long_DOP-DOP),y_long_DOP)\n",
    "y_red_N = U_POD_N[:,:80].transpose().dot(N) \n",
    "y_long_N = U_POD_N[:,:80].dot(y_red_N)\n",
    "print(\"projection error: \",np.linalg.norm(y_long_N-N),y_long_N)"
   ]
  },
  {
   "cell_type": "code",
   "execution_count": 9,
   "metadata": {
    "collapsed": false
   },
   "outputs": [
    {
     "data": {
      "text/plain": [
       "517"
      ]
     },
     "execution_count": 9,
     "metadata": {},
     "output_type": "execute_result"
    }
   ],
   "source": [
    "pod.plotSingular(s_POD_N,0.000001)\n",
    "pod.plotSingular(s_POD_DOP,0.000001)\n",
    "\n",
    "#np.save('U_pod', U_pod)\n",
    "#np.save('s_pod', s_pod)\n",
    "#np.save('P_matrix', P_matrix)\n",
    "#np.save('PT', PT)\n",
    "#np.save('p', p)"
   ]
  },
  {
   "cell_type": "code",
   "execution_count": 10,
   "metadata": {
    "collapsed": false
   },
   "outputs": [
    {
     "name": "stdout",
     "output_type": "stream",
     "text": [
      "Data loaded\n"
     ]
    }
   ],
   "source": [
    "DEIM = pod.constructSnapshotMatrix(\"simulation/DEIM\",1,600,12,11)\n",
    "U_deim , s_deim ,V_deim = pod.computeSVD(DEIM)"
   ]
  },
  {
   "cell_type": "code",
   "execution_count": null,
   "metadata": {
    "collapsed": false
   },
   "outputs": [],
   "source": [
    "pod.plotSingular(s_deim,0.000001)\n",
    "np.save('U_deim', U_deim)\n",
    "np.save('U_deim', U_deim)\n",
    "U_deim_m = U_deim[:,:80]\n",
    "print(U_deim.shape, U_deim_m.shape)"
   ]
  },
  {
   "cell_type": "code",
   "execution_count": 58,
   "metadata": {
    "collapsed": false
   },
   "outputs": [
    {
     "name": "stdout",
     "output_type": "stream",
     "text": [
      "52748\n",
      "52749\n",
      "52748\n",
      "52746\n",
      "52748\n",
      "52748\n",
      "52747\n",
      "52748\n",
      "52747\n",
      "52747\n",
      "52745\n",
      "52747\n"
     ]
    }
   ],
   "source": [
    "\n",
    "#J,PJ = pod.generateIndicesForNonlinearFunction()\n",
    "#PT,p = pod.deimInterpolationIndices(U_DEIM.toarray())\n",
    "PT_N,p_N = pod.deimInterpolationIndices(U_DEIM_N[:,:13])\n",
    "#PT_DOP,p_DOP = pod.deimInterpolationIndices(U_DEIM_DOP[:,:100])"
   ]
  },
  {
   "cell_type": "code",
   "execution_count": 26,
   "metadata": {
    "collapsed": false
   },
   "outputs": [
    {
     "name": "stdout",
     "output_type": "stream",
     "text": [
      "(156,)\n"
     ]
    }
   ],
   "source": [
    "print(np.unique(np.hstack((p_N,p_DOP))).shape)"
   ]
  },
  {
   "cell_type": "code",
   "execution_count": null,
   "metadata": {
    "collapsed": false
   },
   "outputs": [],
   "source": [
    "#PU_inv = la.inv(np.dot(PT.T,U_deim_m))\n",
    "#P_matrix = np.dot(U_deim_m,PU_inv)\n",
    "pod.createReducedMatrices(U_pod_k,p)"
   ]
  },
  {
   "cell_type": "markdown",
   "metadata": {},
   "source": [
    "spin:  0 step:  239 t: 0.0829861111111 norm:  0239 7.90987212941 5.49339568192\n",
    "spin:  0 step:  479 t: 0.166319444444 norm:  0479 14.972333481 10.4021326042\n",
    "spin:  0 step:  719 t: 0.249652777778 norm:  0719 20.8984763686 14.5240281182\n",
    "spin:  0 step:  959 t: 0.332986111111 norm:  0959 25.562322884 17.7797438395\n",
    "spin:  0 step:  1199 t: 0.416319444444 norm:  1199 29.0725732007 20.2577623991\n",
    "spin:  0 step:  1439 t: 0.499652777778 norm:  1439 31.9064825165 22.2681396692\n",
    "spin:  0 step:  1679 t: 0.582986111111 norm:  1679 34.7672727648 24.2476587889\n",
    "spin:  0 step:  1919 t: 0.666319444444 norm:  1919 37.8587152902 26.3558578577\n",
    "spin:  0 step:  2159 t: 0.749652777778 norm:  2159 41.2223223443 28.6185213205\n",
    "spin:  0 step:  2399 t: 0.832986111111 norm:  2399 44.6898100161 30.9290617901\n",
    "spin:  0 step:  2639 t: 0.916319444444 norm:  2639 48.1454148645 33.1999812238\n",
    "spin:  0 step:  2879 t: 0.999652777778 norm:  2879 51.6554788936 35.4921542271\n",
    "spin:  1 step:  239 t: 0.0829861111111 norm:  0239 55.2473445703 37.8038125551\n",
    "spin:  1 step:  479 t: 0.166319444444 norm:  0479 58.6173541077 39.947296562\n",
    "spin:  1 step:  719 t: 0.249652777778 norm:  0719 61.3671233714 41.6636104723\n",
    "spin:  1 step:  959 t: 0.332986111111 norm:  0959 63.2041072846 42.7694516876\n",
    "spin:  1 step:  1199 t: 0.416319444444 norm:  1199 64.0553056445 43.2410563901\n",
    "spin:  1 step:  1439 t: 0.499652777778 norm:  1439 64.3328642305 43.3475283098\n",
    "spin:  1 step:  1679 t: 0.582986111111 norm:  1679 64.8531564326 43.5813696092\n",
    "spin:  1 step:  1919 t: 0.666319444444 norm:  1919 65.8660326783 44.1270823324\n",
    "spin:  1 step:  2159 t: 0.749652777778 norm:  2159 67.4117449366 45.0079813501\n",
    "spin:  1 step:  2399 t: 0.832986111111 norm:  2399 69.2807046292 46.0906036994\n",
    "spin:  1 step:  2639 t: 0.916319444444 norm:  2639 71.2650575554 47.2332362492\n",
    "spin:  1 step:  2879 t: 0.999652777778 norm:  2879 73.37135023 48.460503263\n",
    "spin:  2 step:  239 t: 0.0829861111111 norm:  0239 75.6483994463 49.7820665025\n",
    "spin:  2 step:  479 t: 0.166319444444 norm:  0479 77.8278345441 51.0257256475\n",
    "spin:  2 step:  719 t: 0.249652777778 norm:  0719 79.5302213657 51.9400160726\n",
    "spin:  2 step:  959 t: 0.332986111111 norm:  0959 80.4553433184 52.3345752804\n",
    "spin:  2 step:  1199 t: 0.416319444444 norm:  1199 80.4929277361 52.1625035443\n",
    "spin:  2 step:  1439 t: 0.499652777778 norm:  1439 80.0057919571 51.6674689449\n",
    "spin:  2 step:  1679 t: 0.582986111111 norm:  1679 79.7938078187 51.3320661684\n",
    "spin:  2 step:  1919 t: 0.666319444444 norm:  1919 80.1137018878 51.3440909115\n",
    "spin:  2 step:  2159 t: 0.749652777778 norm:  2159 81.0101557215 51.7286433183\n",
    "spin:  2 step:  2399 t: 0.832986111111 norm:  2399 82.2763299931 52.3524118747\n",
    "spin:  2 step:  2639 t: 0.916319444444 norm:  2639 83.6884713439 53.0645173294\n",
    "spin:  2 step:  2879 t: 0.999652777778 norm:  2879 85.241923535 53.8835390702\n",
    "spin:  3 step:  239 t: 0.0829861111111 norm:  0239 86.9983956572 54.8232974258\n",
    "spin:  3 step:  479 t: 0.166319444444 norm:  0479 88.7014624544 55.7160413768\n",
    "spin:  3 step:  719 t: 0.249652777778 norm:  0719 89.9786572379 56.3132716068\n",
    "spin:  3 step:  959 t: 0.332986111111 norm:  0959 90.533671953 56.4248317725\n",
    "spin:  3 step:  1199 t: 0.416319444444 norm:  1199 90.2468790295 55.9978960019\n",
    "spin:  3 step:  1439 t: 0.499652777778 norm:  1439 89.4611546799 55.2670900747\n",
    "spin:  3 step:  1679 t: 0.582986111111 norm:  1679 88.9595614252 54.7060448876\n",
    "spin:  3 step:  1919 t: 0.666319444444 norm:  1919 88.9957505626 54.5018722675\n",
    "spin:  3 step:  2159 t: 0.749652777778 norm:  2159 89.6136200244 54.6800141685\n",
    "spin:  3 step:  2399 t: 0.832986111111 norm:  2399 90.6135169538 55.1095230499\n",
    "spin:  3 step:  2639 t: 0.916319444444 norm:  2639 91.7680206269 55.6378958519\n",
    "spin:  3 step:  2879 t: 0.999652777778 norm:  2879 93.0705858645 56.2829045736\n",
    "spin:  4 step:  239 t: 0.0829861111111 norm:  0239 94.5872991492 57.0583084079\n",
    "spin:  4 step:  479 t: 0.166319444444 norm:  0479 96.0678614169 57.7981352922\n",
    "    spin:  4 step:  719 t: 0.249652777778 norm:  0719 97.1448544107 58.2557266369"
   ]
  },
  {
   "cell_type": "code",
   "execution_count": null,
   "metadata": {
    "collapsed": true
   },
   "outputs": [],
   "source": [
    "k= 450\n",
    "m = 400\n",
    "J,PJ = pod.generateIndicesForNonlinearFunction()\n",
    "p = np.load(\"p.npy\")\n",
    "U_pod_k = np.load(\"U_pod.npy\")[:,:k]\n",
    "U_deim_m = np.load(\"U_deim.npy\")[:,:m]"
   ]
  },
  {
   "cell_type": "code",
   "execution_count": null,
   "metadata": {
    "collapsed": false,
    "scrolled": true
   },
   "outputs": [],
   "source": [
    "pod.reducedModelDeim_test(1,10,J)\n"
   ]
  },
  {
   "cell_type": "code",
   "execution_count": null,
   "metadata": {
    "collapsed": false,
    "scrolled": true
   },
   "outputs": [],
   "source": [
    "\n",
    "pod.reducedModelDeim(1,1,PJ,J,p,U_pod_k,U_deim_m)"
   ]
  },
  {
   "cell_type": "code",
   "execution_count": null,
   "metadata": {
    "collapsed": false
   },
   "outputs": [],
   "source": [
    "i=0\n",
    "Ai00 = io.read_PETSc_mat('data/TMM/2.8/Transport/Matrix5_4/1dt/Ai_'+str(i).zfill(2)+'.petsc')\n",
    "#Ae00 = io.read_PETSc_mat('data/TMM/2.8/Transport/Matrix5_4/1dt/Ae_'+str(i).zfill(2)+'.petsc')\n",
    "#io.write_PETSc_mat(Ae00,'Ae_test.petsc')\n",
    "io.write_PETSc_mat(Ai00,'Ai_test.petsc')\n",
    "#Ae00_t = io.read_PETSc_mat('Ae_test.petsc')\n",
    "Ai00_t = io.read_PETSc_mat('Ai_test.petsc')\n",
    "\n",
    "np.zeros_like\n",
    "print(Ai00, norm(Ai00- Ai00_t))#,Ae00-Ae00_t)"
   ]
  },
  {
   "cell_type": "code",
   "execution_count": null,
   "metadata": {
    "collapsed": false
   },
   "outputs": [],
   "source": [
    "for i,l in PJ[p]:\n",
    "    print(\"i: \", i ,j )"
   ]
  },
  {
   "cell_type": "code",
   "execution_count": null,
   "metadata": {
    "collapsed": false
   },
   "outputs": [],
   "source": [
    "spin = 0\n",
    "s = 2\n",
    "v1_n = io.read_PETSc_vec('simulation/compare/sp' + str(spin).zfill(4) + 'ts'+  str(s).zfill(4) + 'N.petsc')\n",
    "v2_n = io.read_PETSc_vec('simulation/compare/' + '/sp'+str(spin).zfill(4)+'ts'+str(s).zfill(4)+'N_python.petsc')\n",
    "v1_dop = io.read_PETSc_vec('simulation/compare/sp' + str(spin).zfill(4) + 'ts' + str(s).zfill(4)+ 'DOP.petsc')\n",
    "v2_dop = io.read_PETSc_vec('simulation/compare/' + '/sp'+str(spin).zfill(4)+'ts'+str(s).zfill(4)+'DOP_python.petsc')\n",
    "y = J[np.nonzero(np.sum(fice, axis=1))]\n",
    "x = (v1_dop- v2_dop)[y]\n",
    "print(np.linalg.norm(v1_n-v2_n), np.linalg.norm(v1_dop-v2_dop), np.nonzero(v1_dop- v2_dop),(v1_dop- v2_dop)[np.nonzero(v1_dop- v2_dop)],J[np.nonzero(np.sum(fice, axis=1))])"
   ]
  },
  {
   "cell_type": "code",
   "execution_count": null,
   "metadata": {
    "collapsed": false
   },
   "outputs": [],
   "source": [
    " v1 = io.read_PETSc_vec('simulation/compare/sp' + str(spin).zfill(4) + 'ts'+  str(s).zfill(4) + 'N.petsc')\n",
    "#io.write_PETSc_vec(y[:,0], 'simulation/compare/' + '/sp'+str(spin).zfill(4)+'ts'+str(s).zfill(4)+'N_python.petsc')\n",
    "v2 = io.read_PETSc_vec('simulation/compare/sp' + str(spin).zfill(4) + 'ts' + str(s).zfill(4)+ 'DOP.petsc')\n",
    "#io.write_PETSc_vec(y[:,1], 'simulation/compare/' + '/sp'+str(spin).zfill(4)+'ts'+str(s).zfill(4)+'DOP_python.petsc')\n",
    "print(\"spin: \", spin,\"step: \", s,\"t:\", t,\"norm: \", str(s).zfill(4) ,np.linalg.norm(y_long[:offset]-v1), np.linalg.norm(y_long[offset:]-v2))"
   ]
  },
  {
   "cell_type": "code",
   "execution_count": null,
   "metadata": {
    "collapsed": false
   },
   "outputs": [],
   "source": [
    "gen.generate_prameter_samples(1)"
   ]
  },
  {
   "cell_type": "code",
   "execution_count": null,
   "metadata": {
    "collapsed": false
   },
   "outputs": [],
   "source": [
    "v = io.read_PETSc_vec('simulation/linear/sp0007ts2879N_01_UD.petsc')\n",
    "v1 = io.read_PETSc_vec('simulation/linear/PO4_InitialData_01.petsc')\n",
    "#print(np.mean(v),max(v),min(v1),max(v1),v,v1, np.linalg.norm(v),np.sum(v),np.sum(v1))\n",
    "np.linalg.norm(v-v1)"
   ]
  },
  {
   "cell_type": "code",
   "execution_count": null,
   "metadata": {
    "collapsed": false
   },
   "outputs": [],
   "source": [
    "# longitude\n",
    "dx = 2.8125\n",
    "xx = np.concatenate([np.arange(-180 + 0.5 * dx, 0, dx), np.arange(0 + 0.5 * dx, 180, dx)])\n",
    "# latitude\n",
    "dy = 2.8125\n",
    "yy = np.arange(-90 + 0.5 * dy, 90, dy)\n",
    "cmin, cmax = [0.0, 4.5]\n",
    "\n",
    "\n",
    "# range of latitude\n",
    "yl, yr = [6, 58]\n",
    "# aspect of axes\n",
    "aspect = (yy[yr] - yy[yl] + 1) / 5200.0 / 1.8\n",
    "# levels\n",
    "levels = np.arange(0.0, 5, 0.5)\n",
    "#    print yl, yr\n",
    "#    print aspect\n",
    "#    print levels\n",
    "\n",
    "v3d = io.read_data('sp0028ts2879N.petsc')\n",
    "\n",
    "slices = [73, 117, 32]\n",
    "#title = \"Pacific\"\n",
    "#yvisible = True\n",
    "#create_figure_slice(1, aspect, yy, yl, yr, slices[0], title, yvisible, cmin, cmax, levels, v3d)\n",
    "#title = \"Atlantic\"\n",
    "#yvisible = True\n",
    "#create_figure_slice(2, aspect, yy, yl, yr, slices[1], title, yvisible, cmin, cmax, levels, v3d)\n",
    "#title = \"Indian\"\n",
    "#yvisible = True\n",
    "#create_figure_slice(3, aspect, yy, yl, yr, slices[2], title, yvisible, cmin, cmax, levels, v3d)\n",
    "aspect = 1.0\n",
    "io.create_figure_surface(4, aspect, xx, yy, cmin, cmax, levels, slices, v3d)"
   ]
  },
  {
   "cell_type": "code",
   "execution_count": null,
   "metadata": {
    "collapsed": true
   },
   "outputs": [],
   "source": []
  }
 ],
 "metadata": {
  "kernelspec": {
   "display_name": "Python 3",
   "language": "python",
   "name": "python3"
  },
  "language_info": {
   "codemirror_mode": {
    "name": "ipython",
    "version": 3
   },
   "file_extension": ".py",
   "mimetype": "text/x-python",
   "name": "python",
   "nbconvert_exporter": "python",
   "pygments_lexer": "ipython3",
   "version": "3.5.1"
  }
 },
 "nbformat": 4,
 "nbformat_minor": 0
}
