{
 "cells": [
  {
   "cell_type": "code",
   "execution_count": 1,
   "metadata": {
    "collapsed": false
   },
   "outputs": [],
   "source": [
    "%load_ext autoreload\n",
    "%autoreload 1\n",
    "import class_pod\n",
    "import numpy as np\n",
    "import util\n",
    "import modred as mr\n",
    "import matplotlib.pyplot as plt\n",
    "import scipy as sp\n",
    "import petsc_io as io\n",
    "%aimport class_pod\n",
    "%aimport petsc_io\n",
    "%aimport model\n",
    "%aimport util\n",
    "np.set_printoptions(threshold=np.nan)\n",
    "np.set_printoptions(precision=20)\n",
    "np.set_printoptions(suppress=True)\n",
    "from multiprocessing import Pool"
   ]
  },
  {
   "cell_type": "code",
   "execution_count": 12,
   "metadata": {
    "collapsed": false
   },
   "outputs": [
    {
     "name": "stdout",
     "output_type": "stream",
     "text": [
      "atlas_info:\n",
      "  NOT AVAILABLE\n",
      "atlas_3_10_threads_info:\n",
      "  NOT AVAILABLE\n",
      "atlas_threads_info:\n",
      "  NOT AVAILABLE\n",
      "blas_mkl_info:\n",
      "  NOT AVAILABLE\n",
      "atlas_3_10_blas_threads_info:\n",
      "  NOT AVAILABLE\n",
      "blas_opt_info:\n",
      "    libraries = ['cblas', 'blas']\n",
      "    library_dirs = ['/usr/lib64']\n",
      "    language = c\n",
      "    define_macros = [('NO_ATLAS_INFO', 1), ('HAVE_CBLAS', None)]\n",
      "blas_info:\n",
      "    libraries = ['cblas', 'blas']\n",
      "    library_dirs = ['/usr/lib64']\n",
      "    language = c\n",
      "    define_macros = [('HAVE_CBLAS', None)]\n",
      "openblas_info:\n",
      "  NOT AVAILABLE\n",
      "lapack_info:\n",
      "    libraries = ['lapack', 'lapack']\n",
      "    library_dirs = ['/usr/lib64']\n",
      "    language = f77\n",
      "atlas_blas_threads_info:\n",
      "  NOT AVAILABLE\n",
      "lapack_mkl_info:\n",
      "  NOT AVAILABLE\n",
      "openblas_lapack_info:\n",
      "  NOT AVAILABLE\n",
      "atlas_3_10_blas_info:\n",
      "  NOT AVAILABLE\n",
      "lapack_opt_info:\n",
      "    libraries = ['lapack', 'lapack', 'cblas', 'blas']\n",
      "    library_dirs = ['/usr/lib64']\n",
      "    language = c\n",
      "    define_macros = [('NO_ATLAS_INFO', 1), ('HAVE_CBLAS', None)]\n",
      "atlas_3_10_info:\n",
      "  NOT AVAILABLE\n",
      "mkl_info:\n",
      "  NOT AVAILABLE\n",
      "atlas_blas_info:\n",
      "  NOT AVAILABLE\n"
     ]
    }
   ],
   "source": [
    "np.__config__.show()"
   ]
  },
  {
   "cell_type": "code",
   "execution_count": null,
   "metadata": {
    "collapsed": false
   },
   "outputs": [],
   "source": [
    "pod_vecs = util.constructSnapshotMatrix(\"simulation/POD_DEIM/\",\"sp%.4dts%.4dN.petsc\"\n",
    "                                    ,50,12)\n",
    "deim_vecs = util.constructSnapshotMatrix(\"simulation/POD_DEIM/bgc/\",\"q_sp%.4dts%.4dN.petsc\"\n",
    "                                    ,50,12)\n",
    "\n",
    "U_POD_N , s_POD_N ,V_POD_N = util.computeSVD(pod_vecs)\n",
    "U_DEIM_N , s_DEIM_N ,V_DEIM_N = util.computeSVD(deim_vecs)\n",
    "\n",
    "#num_modes = 600\n",
    "#U_POD_N_mr ,s_POD_N_mr = mr.compute_POD_matrices_direct_method(\n",
    "    #pod_vecs, list(range(num_modes)))\n",
    "\n",
    "#U_DEIM_N_mr ,s_DEIM_N_mr = mr.compute_POD_matrices_direct_method(\n",
    "    #deim_vecs, list(range(num_modes)))\n"
   ]
  },
  {
   "cell_type": "code",
   "execution_count": null,
   "metadata": {
    "collapsed": false
   },
   "outputs": [],
   "source": [
    "U_DEIM_N = np.load(\"reduced_basis/MR/U_DEIM_truncated.npy\")\n",
    "U_POD_N = np.load(\"reduced_basis/MR/U_POD_truncated.npy\")\n",
    "PT,p = util.deimInterpolationIndices(U_DEIM_N)\n",
    "\n",
    "util.createReducedMatrices(U_POD_N,U_DEIM_N,PT,p,\"reduced_basis/MR/\")"
   ]
  },
  {
   "cell_type": "code",
   "execution_count": null,
   "metadata": {
    "collapsed": false
   },
   "outputs": [],
   "source": [
    "p\n"
   ]
  },
  {
   "cell_type": "code",
   "execution_count": null,
   "metadata": {
    "collapsed": false,
    "scrolled": true
   },
   "outputs": [],
   "source": [
    "\n",
    "snapshots_1 = [\n",
    "    util.VecHandlePetsc(\"simulation/POD_DEIM/hydra/1/sp%.4dts%.4dN.petsc\" % (j,(i*240-1))) \n",
    "    for i in range(12,13) for j in range(3000)]\n",
    "\n",
    "snapshots_2 = [\n",
    "    util.VecHandlePetsc(\"simulation/POD_DEIM/hydra/2/sp%.4dts%.4dN.petsc\" % (j,(i*240-1))) \n",
    "    for i in range(12,13) for j in range(3000)]\n",
    "\n",
    "snapshots_3 = [\n",
    "    util.VecHandlePetsc(\"simulation/POD_DEIM/hydra/3/sp%.4dts%.4dN.petsc\" % (j,(i*240-1))) \n",
    "    for i in range(12,13) for j in range(3000)]\n",
    "\n",
    "snapshots_4 = [\n",
    "    util.VecHandlePetsc(\"simulation/POD_DEIM/hydra/4/sp%.4dts%.4dN.petsc\" % (j,(i*240-1))) \n",
    "    for i in range(12,13) for j in range(3000)]\n",
    "\n",
    "snapshots_5 = [\n",
    "    util.VecHandlePetsc(\"simulation/POD_DEIM/hydra/5/sp%.4dts%.4dN.petsc\" % (j,(i*240-1))) \n",
    "    for i in range(12,13) for j in range(3000)]\n",
    "\n",
    "#snapshots_2 = [\n",
    "    #util.VecHandlePetsc(\"simulation/POD_DEIM/hydra/1/bgc/q_sp%.4dts%.4dN.petsc\" % (j,(i*240-1))) \n",
    "    #for i in range(1,13) for j in range(399)]\n",
    "\n",
    "snapshots = snapshots_1 + snapshots_2 + snapshots_3 + snapshots_4 + snapshots_5\n",
    "\n",
    "#modes_snap, eig_vals = mr.compute_POD_matrices_snaps_method(\n",
    "   # vecs, list(range(num_modes)))\n",
    "\n",
    "myPOD = mr.PODHandles(np.vdot,max_vecs_per_node=8000)\n",
    "eigen_vals , vecmodes = myPOD.compute_decomp(snapshots,atol=1e-20)\n",
    "\n",
    "\n",
    "\n",
    "modes = [\n",
    "    util.VecHandlePetsc(\"Pod_%.4d.petsc\" % j) \n",
    "    for j in range(40)]\n",
    "\n",
    "print(len(snapshots),len(modes))\n",
    "myPOD.compute_modes(range(40), modes)\n",
    "print(eigen_vals.shape)\n",
    "\n",
    "\n",
    "np#U,s,V = util.computeSVD(vecs)"
   ]
  },
  {
   "cell_type": "code",
   "execution_count": null,
   "metadata": {
    "collapsed": false
   },
   "outputs": [],
   "source": [
    "ny = 52749\n",
    "Y_N = np.empty([ny,40],dtype='float_')\n",
    "for i in range(40):\n",
    "    Y_N[:,i] = io.read_PETSc_vec(\"Pod_%.4d.petsc\" % i)\n",
    "np.save(\"reduced_basis/MR/0_12_1046/U_POD_truncated.npy\",Y_N)"
   ]
  },
  {
   "cell_type": "code",
   "execution_count": null,
   "metadata": {
    "collapsed": true
   },
   "outputs": [],
   "source": [
    "U_DEIM_N = np.load(\"reduced_basis/MR/0_12_1046/U_DEIM_truncated.npy\")\n",
    "U_POD_N = np.load(\"reduced_basis/MR/0_12_1046/U_POD_truncated.npy\")\n",
    "\n",
    "PT,p = util.deimInterpolationIndices(U_DEIM_N)\n",
    "\n",
    "util.createReducedMatrices(U_POD_N,U_DEIM_N,PT,p,\"reduced_basis/MR/0_12_1046/\")"
   ]
  },
  {
   "cell_type": "code",
   "execution_count": null,
   "metadata": {
    "collapsed": false
   },
   "outputs": [],
   "source": [
    "util.plotSingular(eigen_vals,0.0001)"
   ]
  },
  {
   "cell_type": "code",
   "execution_count": null,
   "metadata": {
    "collapsed": false
   },
   "outputs": [],
   "source": [
    "mr.vectorspace.VectorSpaceHandles().sanity_check(util.VecHandlePetsc)"
   ]
  },
  {
   "cell_type": "code",
   "execution_count": null,
   "metadata": {
    "collapsed": false
   },
   "outputs": [],
   "source": [
    "n_model = class_pod.ReducedModel(\"option.txt\")\n",
    "n_model.Init()\n"
   ]
  },
  {
   "cell_type": "code",
   "execution_count": null,
   "metadata": {
    "collapsed": true
   },
   "outputs": [],
   "source": []
  },
  {
   "cell_type": "code",
   "execution_count": null,
   "metadata": {
    "collapsed": false,
    "scrolled": true
   },
   "outputs": [],
   "source": [
    "n_model.simulate()"
   ]
  },
  {
   "cell_type": "code",
   "execution_count": null,
   "metadata": {
    "collapsed": false
   },
   "outputs": [],
   "source": [
    "util.plotVecOnWorldmap(\"POD_DEIM/hydra/1/sp0111ts0239N.petsc\")\n",
    "util.plotVecOnWorldmap(\"reduced/MR/hydra/0sp0111ts0239N.petsc\")"
   ]
  },
  {
   "cell_type": "code",
   "execution_count": null,
   "metadata": {
    "collapsed": false
   },
   "outputs": [],
   "source": [
    "A = io.read_PETSc_mat(\"Ai0000N.petsc\")\n",
    "yeq = io.read_PETSc_vec(\"yeqts0000N.petsc\")\n",
    "ym3d = io.read_PETSc_vec(\"simulation/compare/y_sp0000ts0000N.petsc\")\n",
    "A[4:8,4:8].dot(yeq[4:8])-ym3d[4:8]"
   ]
  },
  {
   "cell_type": "code",
   "execution_count": null,
   "metadata": {
    "collapsed": false
   },
   "outputs": [],
   "source": [
    "A_sec_block = io.read_PETSc_mat(\"m3d_python/A_sec_block.petsc\")\n",
    "yeq_sec_block = io.read_PETSc_vec(\"m3d_python/yeq_sec_block.petsc\")\n",
    "main_sec_block = io.read_PETSc_vec(\"m3d_python/yout.petsc\")\n",
    "main_sec_block_fst_row = io.read_PETSc_vec(\"m3d_python/yout_main_sec_block_fst_row.petsc\")\n",
    "ym3d_sec_block = io.read_PETSc_vec(\"m3d_python/m3d_y_sec_block.petsc\")\n",
    "print(A_sec_block.todense(),\"\\n\",yeq_sec_block,\"\\n\",A_sec_block.dot(yeq_sec_block),\"\\n\",ym3d_sec_block,\"\\n\",A_sec_block.dot(yeq_sec_block)-ym3d_sec_block)\n",
    "print(np.dot(A_sec_block[0,:].todense(),yeq_sec_block)-ym3d_sec_block[0])\n",
    "print(ym3d_sec_block[0]-main_sec_block_fst_row)\n",
    "print(ym3d_sec_block-main_sec_block)\n",
    "print(np.dot(A_sec_block[0,:].todense(),yeq_sec_block)-main_sec_block_fst_row)"
   ]
  },
  {
   "cell_type": "code",
   "execution_count": null,
   "metadata": {
    "collapsed": false
   },
   "outputs": [],
   "source": [
    "io.write_PETSc_mat(A_sec_block[0,:],\"A_sec_block_fst_row.petsc\")"
   ]
  },
  {
   "cell_type": "code",
   "execution_count": null,
   "metadata": {
    "collapsed": false
   },
   "outputs": [],
   "source": [
    "io.write_PETSc_mat(A[4:8,4:8],\"A_sec_block.petsc\")\n",
    "io.write_PETSc_vec(yeq[4:8],\"yeq_sec_block.petsc\")\n",
    "io.write_PETSc_vec(ym3d[4:8],\"m3d_y_sec_block.petsc\")"
   ]
  },
  {
   "cell_type": "code",
   "execution_count": null,
   "metadata": {
    "collapsed": false
   },
   "outputs": [],
   "source": [
    "np.set_printoptions(precision=10)\n",
    "np.set_printoptions(suppress=True)\n",
    "\n",
    "u = np.load('data/LHS-samples.npy') #util.generate_prameter_samples(10,5)\n",
    "print(np.around(u[10,:],10))\n",
    "\n"
   ]
  },
  {
   "cell_type": "code",
   "execution_count": null,
   "metadata": {
    "collapsed": false
   },
   "outputs": [],
   "source": [
    "fid = open('data/LHS-samples.bin', 'rb')\n",
    "m   = np.fromfile(fid, dtype = '>i4', count = 1)\n",
    "n   = np.fromfile(fid, dtype = '>i4', count = 1)\n",
    "x   = np.fromfile(fid, dtype = '>f8', count = m * n)\n",
    "fid.close()"
   ]
  },
  {
   "cell_type": "code",
   "execution_count": 16,
   "metadata": {
    "collapsed": false
   },
   "outputs": [],
   "source": [
    "def constructPOD_QR(Y,n,eps):\n",
    "    p = np.linalg.norm(Y[:,0])\n",
    "    j0 = 0 \n",
    "    Jout = []\n",
    "    while p == 0:\n",
    "        Jout.append(j0)\n",
    "        j0 += 1\n",
    "        p = np.linalg.norm(Y[:,j0])\n",
    "    q1 = Y[:,j0]/p\n",
    "    Q  = -q1\n",
    "    #print(np.dot(Q.T,Q))\n",
    "    R = np.dot(Q,Y[:,j0])\n",
    "    #print(R)\n",
    "    js = 0\n",
    "    first = False\n",
    "    for l in range(j0 +1,n):\n",
    "        #print(l)\n",
    "        r = np.dot(Q.T,Y[:,l])\n",
    "        #print(\"r\",r)\n",
    "        q = (Y[:,l] - np.dot(Q,r))\n",
    "        #print(\"q\",q)\n",
    "        #c = np.dot(Q.T,q)\n",
    "        #print(\"c\",c)\n",
    "        #q = q - np.dot(Q,c)\n",
    "        #print(\"reort\",q)\n",
    "        #r = r + c\n",
    "        #print(\"r+c\",r)\n",
    "        p = np.linalg.norm(q)\n",
    "        #print(p,np.linalg.norm(r))\n",
    "        if p >= eps * np.linalg.norm(r):\n",
    "            #print(Q.shape)\n",
    "            Q = np.column_stack((Q, q/p))\n",
    "            #print(np.dot(Q.T,Q))\n",
    "            #print(r.shape,np.hstack((np.zeros(js),p)))\n",
    "            if first:\n",
    "                R = np.vstack((r,p))\n",
    "                first = False\n",
    "            else:\n",
    "                #print((np.column_stack((R,r)),R.shape,R,r))\n",
    "                R = np.vstack((np.column_stack((R,r)),np.hstack((np.zeros(js+1),p))))\n",
    "            js = js +1\n",
    "        else:\n",
    "            print(p,np.linalg.norm(r))\n",
    "            Jout.append(l)\n",
    "    return Q,R"
   ]
  },
  {
   "cell_type": "code",
   "execution_count": 30,
   "metadata": {
    "collapsed": false
   },
   "outputs": [
    {
     "name": "stdout",
     "output_type": "stream",
     "text": [
      "(52749, 300)\n",
      "True\n"
     ]
    }
   ],
   "source": [
    "pod_vecs = util.constructSnapshotMatrix(\"simulation/POD_DEIM/hydra/1/\",\"sp%.4dts%.4dN.petsc\"\n",
    "                                    ,300,12,12)\n",
    "print(pod_vecs.shape)\n",
    "#Q1, R = sp.linalg.qr(pod_vecs,mode='economic')\n",
    "#print(np.allclose(np.dot(Q1,R),pod_vecs))\n",
    "#print(Q1)\n",
    "Q2,R = constructPOD_QR(pod_vecs,pod_vecs.shape[1],1e-6)\n",
    "print(np.allclose(np.dot(Q2,R),pod_vecs))\n",
    "#print(Q2)\n",
    "U,S,V = np.linalg.svd(R)\n",
    "U = np.dot(Q2,U)\n",
    "U2,S2,V2 = util.computeSVD(pod_vecs)"
   ]
  },
  {
   "cell_type": "code",
   "execution_count": 3,
   "metadata": {
    "collapsed": false
   },
   "outputs": [
    {
     "data": {
      "text/plain": [
       "0"
      ]
     },
     "execution_count": 3,
     "metadata": {},
     "output_type": "execute_result"
    }
   ],
   "source": [
    "from scipy.sparse import csr_matrix\n",
    "pod_vecs = util.constructSnapshotMatrix(\"simulation/POD_DEIM/hydra/1/\",\"sp%.4dts%.4dN.petsc\"\n",
    "                                    ,300,12,12)\n",
    "p = csr_matrix(pod_vecs)\n",
    "io.write_PETSc_mat(p,\"POD_mat.petsc\")"
   ]
  },
  {
   "cell_type": "code",
   "execution_count": 64,
   "metadata": {
    "collapsed": false
   },
   "outputs": [
    {
     "name": "stdout",
     "output_type": "stream",
     "text": [
      "(3000,) (3000, 3000)\n"
     ]
    },
    {
     "ename": "MemoryError",
     "evalue": "",
     "output_type": "error",
     "traceback": [
      "\u001b[1;31m---------------------------------------------------------------------------\u001b[0m",
      "\u001b[1;31mMemoryError\u001b[0m                               Traceback (most recent call last)",
      "\u001b[1;32m<ipython-input-64-97b847483b3e>\u001b[0m in \u001b[0;36m<module>\u001b[1;34m()\u001b[0m\n\u001b[0;32m      3\u001b[0m \u001b[1;31m#U = np.zeros((52749,300),dtype=np.float_)\u001b[0m\u001b[1;33m\u001b[0m\u001b[1;33m\u001b[0m\u001b[0m\n\u001b[0;32m      4\u001b[0m \u001b[1;32mfor\u001b[0m \u001b[0mi\u001b[0m \u001b[1;32min\u001b[0m \u001b[0mrange\u001b[0m\u001b[1;33m(\u001b[0m\u001b[1;36m50\u001b[0m\u001b[1;33m)\u001b[0m\u001b[1;33m:\u001b[0m\u001b[1;33m\u001b[0m\u001b[0m\n\u001b[1;32m----> 5\u001b[1;33m     \u001b[0mU\u001b[0m\u001b[1;33m[\u001b[0m\u001b[1;33m:\u001b[0m\u001b[1;33m,\u001b[0m\u001b[0mi\u001b[0m\u001b[1;33m]\u001b[0m \u001b[1;33m=\u001b[0m \u001b[0mnp\u001b[0m\u001b[1;33m.\u001b[0m\u001b[0mdot\u001b[0m\u001b[1;33m(\u001b[0m\u001b[1;36m1\u001b[0m\u001b[1;33m/\u001b[0m\u001b[0mnp\u001b[0m\u001b[1;33m.\u001b[0m\u001b[0msqrt\u001b[0m\u001b[1;33m(\u001b[0m\u001b[0mnp\u001b[0m\u001b[1;33m.\u001b[0m\u001b[0mabs\u001b[0m\u001b[1;33m(\u001b[0m\u001b[0me\u001b[0m\u001b[1;33m[\u001b[0m\u001b[0mi\u001b[0m\u001b[1;33m]\u001b[0m\u001b[1;33m)\u001b[0m\u001b[1;33m)\u001b[0m\u001b[1;33m,\u001b[0m\u001b[0mnp\u001b[0m\u001b[1;33m.\u001b[0m\u001b[0mdot\u001b[0m\u001b[1;33m(\u001b[0m\u001b[0mpod_vecs\u001b[0m\u001b[1;33m,\u001b[0m\u001b[0mv\u001b[0m\u001b[1;33m[\u001b[0m\u001b[1;33m:\u001b[0m\u001b[1;33m,\u001b[0m\u001b[0mi\u001b[0m\u001b[1;33m]\u001b[0m\u001b[1;33m)\u001b[0m\u001b[1;33m)\u001b[0m\u001b[1;33m\u001b[0m\u001b[0m\n\u001b[0m",
      "\u001b[1;31mMemoryError\u001b[0m: "
     ]
    }
   ],
   "source": [
    "\n",
    "C = np.dot(pod_vecs.T,pod_vecs)\n",
    "#e, v= np.linalg.eig(C)\n",
    "print(e.shape,v.shape)\n",
    "#U = np.zeros((52749,300),dtype=np.float_)\n",
    "for i in range(50):\n",
    "    U[:,i] = np.dot(1/np.sqrt(np.abs(e[i])),np.dot(pod_vecs,v[:,i]))"
   ]
  },
  {
   "cell_type": "code",
   "execution_count": 62,
   "metadata": {
    "collapsed": false
   },
   "outputs": [
    {
     "data": {
      "text/plain": [
       "1459"
      ]
     },
     "execution_count": 62,
     "metadata": {},
     "output_type": "execute_result"
    }
   ],
   "source": [
    "util.plotSingular(np.abs(e),0.0000001)"
   ]
  }
 ],
 "metadata": {
  "kernelspec": {
   "display_name": "Python 3",
   "language": "python",
   "name": "python3"
  },
  "language_info": {
   "codemirror_mode": {
    "name": "ipython",
    "version": 3
   },
   "file_extension": ".py",
   "mimetype": "text/x-python",
   "name": "python",
   "nbconvert_exporter": "python",
   "pygments_lexer": "ipython3",
   "version": "3.5.1"
  }
 },
 "nbformat": 4,
 "nbformat_minor": 0
}
