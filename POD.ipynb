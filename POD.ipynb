{
 "cells": [
  {
   "cell_type": "code",
   "execution_count": null,
   "metadata": {
    "collapsed": false
   },
   "outputs": [],
   "source": [
    "%matplotlib\n",
    "%load_ext autoreload\n",
    "%autoreload 1\n",
    "#import pythonscripts.PetscBinaryIO as PBIO\n",
    "import numpy as np\n",
    "import numpy as numpy\n",
    "import numpy.linalg as la\n",
    "import petsc_io as io\n",
    "import matplotlib as plt\n",
    "import scipy.stats as stats\n",
    "import scipy as sp\n",
    "import timeit\n",
    "import pod as pod\n",
    "%aimport pod\n",
    "%aimport petsc_io\n"
   ]
  },
  {
   "cell_type": "code",
   "execution_count": null,
   "metadata": {
    "collapsed": false
   },
   "outputs": [],
   "source": [
    "Y = pod.constructSnapshotMatrix('work/UD_long','UD',9,10,40,13,0)\n",
    "Y2 = pod.constructSnapshotMatrix('work/UD_long','UD',31,32,300,13,11)\n",
    "Y3 = pod.constructSnapshotMatrix('work/ND_long','ND',13,14,40,13,0)\n",
    "Y4 = pod.constructSnapshotMatrix('work/ND_long','ND',13,14,300,13,11)\n",
    "#U, s, V = pod.computeSVD(Y) "
   ]
  },
  {
   "cell_type": "code",
   "execution_count": null,
   "metadata": {
    "collapsed": false
   },
   "outputs": [],
   "source": [
    "Y5 = np.column_stack((Y,Y2,Y3,Y4))\n",
    "Y5.shape"
   ]
  },
  {
   "cell_type": "code",
   "execution_count": null,
   "metadata": {
    "collapsed": false
   },
   "outputs": [],
   "source": [
    "U, s, V = pod.computeSVD(Y5) "
   ]
  },
  {
   "cell_type": "code",
   "execution_count": null,
   "metadata": {
    "collapsed": false
   },
   "outputs": [],
   "source": [
    "index = pod.plotSingular(s,1e-3)"
   ]
  },
  {
   "cell_type": "code",
   "execution_count": null,
   "metadata": {
    "collapsed": false,
    "scrolled": true
   },
   "outputs": [],
   "source": [
    "V = U[:,:index]\n",
    "print(index,U.shape)"
   ]
  },
  {
   "cell_type": "code",
   "execution_count": null,
   "metadata": {
    "collapsed": false
   },
   "outputs": [],
   "source": [
    "pod.createReducedMatrices(V)"
   ]
  },
  {
   "cell_type": "code",
   "execution_count": null,
   "metadata": {
    "collapsed": false,
    "scrolled": true
   },
   "outputs": [],
   "source": [
    "pod.reducedModel('Gleichverteilung/PO4_InitialData_31.petsc','work/Reduced/UD_09_78_12_31_300_1','01_GL',5000)"
   ]
  },
  {
   "cell_type": "code",
   "execution_count": null,
   "metadata": {
    "collapsed": false
   },
   "outputs": [],
   "source": [
    "pod.plotErrorNorm('GL','UD_09_78_12_31_300_1',1,0,3000,11)"
   ]
  },
  {
   "cell_type": "code",
   "execution_count": null,
   "metadata": {
    "collapsed": false
   },
   "outputs": [],
   "source": [
    "pod.plotVecOnWorldmap('UD_long/sp0299ts0239N_31_UD.petsc')"
   ]
  },
  {
   "cell_type": "code",
   "execution_count": null,
   "metadata": {
    "collapsed": false
   },
   "outputs": [],
   "source": []
  },
  {
   "cell_type": "code",
   "execution_count": null,
   "metadata": {
    "collapsed": false
   },
   "outputs": [],
   "source": []
  },
  {
   "cell_type": "code",
   "execution_count": null,
   "metadata": {
    "collapsed": true
   },
   "outputs": [],
   "source": []
  }
 ],
 "metadata": {
  "kernelspec": {
   "display_name": "Python 3",
   "language": "python",
   "name": "python3"
  },
  "language_info": {
   "codemirror_mode": {
    "name": "ipython",
    "version": 3
   },
   "file_extension": ".py",
   "mimetype": "text/x-python",
   "name": "python",
   "nbconvert_exporter": "python",
   "pygments_lexer": "ipython3",
   "version": "3.5.1"
  }
 },
 "nbformat": 4,
 "nbformat_minor": 0
}
