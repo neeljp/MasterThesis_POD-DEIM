{
 "cells": [
  {
   "cell_type": "code",
   "execution_count": 1,
   "metadata": {
    "collapsed": false
   },
   "outputs": [
    {
     "name": "stdout",
     "output_type": "stream",
     "text": [
      "Using matplotlib backend: Qt5Agg\n"
     ]
    }
   ],
   "source": [
    "%matplotlib\n",
    "%load_ext autoreload\n",
    "%autoreload 1\n",
    "#import pythonscripts.PetscBinaryIO as PBIO\n",
    "import numpy as np\n",
    "import numpy as numpy\n",
    "import numpy.linalg as la\n",
    "import petsc_io as io\n",
    "import matplotlib as plt\n",
    "import scipy.stats as stats\n",
    "import scipy as sp\n",
    "import timeit\n",
    "import pod as pod\n",
    "%aimport pod\n",
    "%aimport petsc_io\n"
   ]
  },
  {
   "cell_type": "code",
   "execution_count": null,
   "metadata": {
    "collapsed": false
   },
   "outputs": [],
   "source": [
    "Y = pod.constructSnapshotMatrix('work/UD_long','UD',9,10,40,13,0)\n",
    "Y2 = pod.constructSnapshotMatrix('work/UD_long','UD',31,32,300,13,11)\n",
    "Y3 = pod.constructSnapshotMatrix('work/ND_long','ND',13,14,40,13,0)\n",
    "Y4 = pod.constructSnapshotMatrix('work/ND_long','ND',13,14,300,13,11)\n",
    "#U, s, V = pod.computeSVD(Y) "
   ]
  },
  {
   "cell_type": "code",
   "execution_count": null,
   "metadata": {
    "collapsed": false
   },
   "outputs": [],
   "source": [
    "Y5 = np.column_stack((Y,Y2,Y3,Y4))\n",
    "Y5.shape"
   ]
  },
  {
   "cell_type": "code",
   "execution_count": null,
   "metadata": {
    "collapsed": false
   },
   "outputs": [],
   "source": [
    "U, s, V = pod.computeSVD(Y5) "
   ]
  },
  {
   "cell_type": "code",
   "execution_count": null,
   "metadata": {
    "collapsed": false
   },
   "outputs": [],
   "source": [
    "index = pod.plotSingular(s,1e-3)"
   ]
  },
  {
   "cell_type": "code",
   "execution_count": null,
   "metadata": {
    "collapsed": false,
    "scrolled": true
   },
   "outputs": [],
   "source": [
    "V = U[:,:index]\n",
    "print(index,U.shape)"
   ]
  },
  {
   "cell_type": "code",
   "execution_count": null,
   "metadata": {
    "collapsed": false
   },
   "outputs": [],
   "source": [
    "pod.createReducedMatrices(V)"
   ]
  },
  {
   "cell_type": "code",
   "execution_count": 4,
   "metadata": {
    "collapsed": false,
    "scrolled": true
   },
   "outputs": [
    {
     "name": "stdout",
     "output_type": "stream",
     "text": [
      "spingup: 0 error: 0.584155604328\n",
      "spingup: 1 error: 0.586434907415\n",
      "spingup: 2 error: 0.587678770534\n",
      "spingup: 3 error: 0.58889943601\n"
     ]
    },
    {
     "ename": "KeyboardInterrupt",
     "evalue": "",
     "output_type": "error",
     "traceback": [
      "\u001b[1;31m---------------------------------------------------------------------------\u001b[0m",
      "\u001b[1;31mKeyboardInterrupt\u001b[0m                         Traceback (most recent call last)",
      "\u001b[1;32m<ipython-input-4-ed9de8a6179d>\u001b[0m in \u001b[0;36m<module>\u001b[1;34m()\u001b[0m\n\u001b[1;32m----> 1\u001b[1;33m \u001b[0mpod\u001b[0m\u001b[1;33m.\u001b[0m\u001b[0mreducedModel\u001b[0m\u001b[1;33m(\u001b[0m\u001b[1;34m'Gleichverteilung/PO4_InitialData_31.petsc'\u001b[0m\u001b[1;33m,\u001b[0m\u001b[1;34m'work/Reduced/UD_09_78_12_31_300_1'\u001b[0m\u001b[1;33m,\u001b[0m\u001b[1;34m'01_GL'\u001b[0m\u001b[1;33m,\u001b[0m\u001b[1;36m5000\u001b[0m\u001b[1;33m)\u001b[0m\u001b[1;33m\u001b[0m\u001b[0m\n\u001b[0m",
      "\u001b[1;32m/home/njp/Master/WS1516/em/metos3d/pod.py\u001b[0m in \u001b[0;36mreducedModel\u001b[1;34m(initVec, reducedBasis, distribution, spinups)\u001b[0m\n\u001b[0;32m    100\u001b[0m \u001b[1;33m\u001b[0m\u001b[0m\n\u001b[0;32m    101\u001b[0m                 \u001b[1;31m#save solution vector at the end of one month\u001b[0m\u001b[1;33m\u001b[0m\u001b[1;33m\u001b[0m\u001b[0m\n\u001b[1;32m--> 102\u001b[1;33m                 \u001b[0mvstep\u001b[0m \u001b[1;33m=\u001b[0m \u001b[0mV\u001b[0m\u001b[1;33m.\u001b[0m\u001b[0mdot\u001b[0m\u001b[1;33m(\u001b[0m\u001b[0mc\u001b[0m\u001b[1;33m)\u001b[0m\u001b[1;33m\u001b[0m\u001b[0m\n\u001b[0m\u001b[0;32m    103\u001b[0m                 \u001b[0mio\u001b[0m\u001b[1;33m.\u001b[0m\u001b[0mwrite_PETSc_vec\u001b[0m\u001b[1;33m(\u001b[0m\u001b[0mvstep\u001b[0m\u001b[1;33m,\u001b[0m \u001b[0mreducedBasis\u001b[0m \u001b[1;33m+\u001b[0m \u001b[1;34m'/sp'\u001b[0m\u001b[1;33m+\u001b[0m\u001b[0mstr\u001b[0m\u001b[1;33m(\u001b[0m\u001b[0ml\u001b[0m\u001b[1;33m)\u001b[0m\u001b[1;33m.\u001b[0m\u001b[0mzfill\u001b[0m\u001b[1;33m(\u001b[0m\u001b[1;36m4\u001b[0m\u001b[1;33m)\u001b[0m\u001b[1;33m+\u001b[0m\u001b[1;34m'ts'\u001b[0m\u001b[1;33m+\u001b[0m\u001b[0mstr\u001b[0m\u001b[1;33m(\u001b[0m\u001b[0mi\u001b[0m\u001b[1;33m+\u001b[0m\u001b[1;33m(\u001b[0m\u001b[0mm\u001b[0m\u001b[1;33m-\u001b[0m\u001b[1;36m1\u001b[0m\u001b[1;33m)\u001b[0m\u001b[1;33m*\u001b[0m\u001b[1;36m240\u001b[0m\u001b[1;33m)\u001b[0m\u001b[1;33m.\u001b[0m\u001b[0mzfill\u001b[0m\u001b[1;33m(\u001b[0m\u001b[1;36m4\u001b[0m\u001b[1;33m)\u001b[0m\u001b[1;33m+\u001b[0m\u001b[1;34m'N_'\u001b[0m\u001b[1;33m+\u001b[0m\u001b[0mdistribution\u001b[0m\u001b[1;33m+\u001b[0m\u001b[1;34m'.petsc'\u001b[0m\u001b[1;33m)\u001b[0m\u001b[1;33m\u001b[0m\u001b[0m\n\u001b[0;32m    104\u001b[0m \u001b[1;33m\u001b[0m\u001b[0m\n",
      "\u001b[1;31mKeyboardInterrupt\u001b[0m: "
     ]
    }
   ],
   "source": [
    "pod.reducedModel('Gleichverteilung/PO4_InitialData_31.petsc','work/Reduced/UD_09_78_12_31_300_1','01_GL',5000)"
   ]
  },
  {
   "cell_type": "code",
   "execution_count": 2,
   "metadata": {
    "collapsed": false
   },
   "outputs": [
    {
     "name": "stdout",
     "output_type": "stream",
     "text": [
      "Data loaded:work/Reduced/UD_09_78_12_31_300_1/sp000$dts000$dN_01-02_GL.petsc\n",
      "Data loaded:work/UD/sp000$dts000$dN_01-02_GL.petsc\n"
     ]
    }
   ],
   "source": [
    "pod.plotErrorNorm('GL','UD_09_78_12_31_300_1',1,0,3000,11)"
   ]
  },
  {
   "cell_type": "code",
   "execution_count": 8,
   "metadata": {
    "collapsed": false
   },
   "outputs": [],
   "source": [
    "pod.plotVecOnWorldmap('UD_long/sp0299ts0239N_31_UD.petsc')"
   ]
  },
  {
   "cell_type": "code",
   "execution_count": 79,
   "metadata": {
    "collapsed": false
   },
   "outputs": [
    {
     "name": "stdout",
     "output_type": "stream",
     "text": [
      "[ 0.00334628  0.00334398  0.00334289 ...,  0.00455813  0.004268    0.00408816]\n",
      "[ 0.      0.0001  0.0002  0.0003  0.0004  0.0005  0.0006  0.0007  0.0008\n",
      "  0.0009  0.001   0.0011  0.0012  0.0013  0.0014  0.0015  0.0016  0.0017\n",
      "  0.0018  0.0019  0.002   0.0021  0.0022  0.0023  0.0024  0.0025  0.0026\n",
      "  0.0027  0.0028  0.0029  0.003   0.0031  0.0032  0.0033  0.0034  0.0035\n",
      "  0.0036  0.0037  0.0038  0.0039  0.004   0.0041  0.0042  0.0043  0.0044\n",
      "  0.0045  0.0046  0.0047  0.0048  0.0049  0.005   0.0051  0.0052  0.0053\n",
      "  0.0054  0.0055  0.0056  0.0057  0.0058  0.0059  0.006   0.0061  0.0062\n",
      "  0.0063  0.0064  0.0065  0.0066  0.0067  0.0068  0.0069  0.007   0.0071\n",
      "  0.0072  0.0073  0.0074  0.0075  0.0076  0.0077  0.0078  0.0079  0.008\n",
      "  0.0081  0.0082  0.0083  0.0084  0.0085  0.0086  0.0087  0.0088  0.0089\n",
      "  0.009   0.0091  0.0092  0.0093  0.0094  0.0095  0.0096  0.0097  0.0098\n",
      "  0.0099]\n"
     ]
    }
   ],
   "source": []
  },
  {
   "cell_type": "code",
   "execution_count": 64,
   "metadata": {
    "collapsed": false
   },
   "outputs": [
    {
     "name": "stdout",
     "output_type": "stream",
     "text": [
      "work/UD_long/sp0299ts0239N_31_UD.petsc\n",
      "[ 2.17406067  2.17406231  2.17406609 ...,  2.18220193  2.18510349\n",
      "  2.18783435]\n",
      "[ 0.    0.01  0.02  0.03  0.04  0.05  0.06  0.07  0.08  0.09  0.1   0.11\n",
      "  0.12  0.13  0.14  0.15  0.16  0.17  0.18  0.19  0.2   0.21  0.22  0.23\n",
      "  0.24  0.25  0.26  0.27  0.28  0.29  0.3   0.31  0.32  0.33  0.34  0.35\n",
      "  0.36  0.37  0.38  0.39  0.4   0.41  0.42  0.43  0.44  0.45  0.46  0.47\n",
      "  0.48  0.49  0.5   0.51  0.52  0.53  0.54  0.55  0.56  0.57  0.58  0.59\n",
      "  0.6   0.61  0.62  0.63  0.64  0.65  0.66  0.67  0.68  0.69  0.7   0.71\n",
      "  0.72  0.73  0.74  0.75  0.76  0.77  0.78  0.79  0.8   0.81  0.82  0.83\n",
      "  0.84  0.85  0.86  0.87  0.88  0.89  0.9   0.91  0.92  0.93  0.94  0.95\n",
      "  0.96  0.97  0.98  0.99  1.    1.01  1.02  1.03  1.04  1.05  1.06  1.07\n",
      "  1.08  1.09  1.1   1.11  1.12  1.13  1.14  1.15  1.16  1.17  1.18  1.19\n",
      "  1.2   1.21  1.22  1.23  1.24  1.25  1.26  1.27  1.28  1.29  1.3   1.31\n",
      "  1.32  1.33  1.34  1.35  1.36  1.37  1.38  1.39  1.4   1.41  1.42  1.43\n",
      "  1.44  1.45  1.46  1.47  1.48  1.49  1.5   1.51  1.52  1.53  1.54  1.55\n",
      "  1.56  1.57  1.58  1.59  1.6   1.61  1.62  1.63  1.64  1.65  1.66  1.67\n",
      "  1.68  1.69  1.7   1.71  1.72  1.73  1.74  1.75  1.76  1.77  1.78  1.79\n",
      "  1.8   1.81  1.82  1.83  1.84  1.85  1.86  1.87  1.88  1.89  1.9   1.91\n",
      "  1.92  1.93  1.94  1.95  1.96  1.97  1.98  1.99  2.    2.01  2.02  2.03\n",
      "  2.04  2.05  2.06  2.07  2.08  2.09  2.1   2.11  2.12  2.13  2.14  2.15\n",
      "  2.16  2.17  2.18  2.19  2.2   2.21  2.22  2.23  2.24  2.25  2.26  2.27\n",
      "  2.28  2.29  2.3   2.31  2.32  2.33  2.34  2.35  2.36  2.37  2.38  2.39\n",
      "  2.4   2.41  2.42  2.43  2.44  2.45  2.46  2.47  2.48  2.49  2.5   2.51\n",
      "  2.52  2.53  2.54  2.55  2.56  2.57  2.58  2.59  2.6   2.61  2.62  2.63\n",
      "  2.64  2.65  2.66  2.67  2.68  2.69  2.7   2.71  2.72  2.73  2.74  2.75\n",
      "  2.76  2.77  2.78  2.79  2.8   2.81  2.82  2.83  2.84  2.85  2.86  2.87\n",
      "  2.88  2.89  2.9   2.91  2.92  2.93  2.94  2.95  2.96  2.97  2.98  2.99]\n"
     ]
    }
   ],
   "source": []
  },
  {
   "cell_type": "code",
   "execution_count": null,
   "metadata": {
    "collapsed": true
   },
   "outputs": [],
   "source": []
  }
 ],
 "metadata": {
  "kernelspec": {
   "display_name": "Python 3",
   "language": "python",
   "name": "python3"
  },
  "language_info": {
   "codemirror_mode": {
    "name": "ipython",
    "version": 3
   },
   "file_extension": ".py",
   "mimetype": "text/x-python",
   "name": "python",
   "nbconvert_exporter": "python",
   "pygments_lexer": "ipython3",
   "version": "3.5.1"
  }
 },
 "nbformat": 4,
 "nbformat_minor": 0
}
